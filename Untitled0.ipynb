{
  "nbformat": 4,
  "nbformat_minor": 0,
  "metadata": {
    "colab": {
      "provenance": [],
      "authorship_tag": "ABX9TyMDvgFE7e8ML/mk3tlp3XA/",
      "include_colab_link": true
    },
    "kernelspec": {
      "name": "python3",
      "display_name": "Python 3"
    },
    "language_info": {
      "name": "python"
    }
  },
  "cells": [
    {
      "cell_type": "markdown",
      "metadata": {
        "id": "view-in-github",
        "colab_type": "text"
      },
      "source": [
        "<a href=\"https://colab.research.google.com/github/melis1722/yapay-zeka-ile--python/blob/main/Untitled0.ipynb\" target=\"_parent\"><img src=\"https://colab.research.google.com/assets/colab-badge.svg\" alt=\"Open In Colab\"/></a>"
      ]
    },
    {
      "cell_type": "markdown",
      "source": [
        "# Yeni Bölüm"
      ],
      "metadata": {
        "id": "2JvsXJGYi53x"
      }
    },
    {
      "cell_type": "markdown",
      "source": [
        "Numpy kütüphanesinde 10 adet seçtikleri fonksiyonu açıklayarak kullanım örneği olan jupyter notebook ile paylaşılacak.\n",
        "\n",
        "\n",
        "```\n",
        "# Bu, kod olarak biçimlendirilmiştir\n",
        "```\n",
        "\n"
      ],
      "metadata": {
        "id": "achrdRg_i8AL"
      }
    },
    {
      "cell_type": "code",
      "source": [
        "import numpy as np\n"
      ],
      "metadata": {
        "id": "GjdMrkesjID0"
      },
      "execution_count": null,
      "outputs": []
    },
    {
      "cell_type": "code",
      "source": [
        "np.array(10)\n",
        "# NumPy dizisi (array) oluşturur.\n"
      ],
      "metadata": {
        "colab": {
          "base_uri": "https://localhost:8080/"
        },
        "id": "GFWYKRb7jUHN",
        "outputId": "319b9e92-ddf0-4b3b-8167-d24af39b4c2f"
      },
      "execution_count": null,
      "outputs": [
        {
          "output_type": "execute_result",
          "data": {
            "text/plain": [
              "array(10)"
            ]
          },
          "metadata": {},
          "execution_count": 2
        }
      ]
    },
    {
      "cell_type": "code",
      "source": [
        "dizi=np.array([1,2,3])\n",
        "print(dizi)"
      ],
      "metadata": {
        "colab": {
          "base_uri": "https://localhost:8080/"
        },
        "id": "jkX8Jm2Sj_dT",
        "outputId": "8fabc705-e997-4049-d5ef-b9aeaf6c8f91"
      },
      "execution_count": null,
      "outputs": [
        {
          "output_type": "stream",
          "name": "stdout",
          "text": [
            "[1 2 3]\n"
          ]
        }
      ]
    },
    {
      "cell_type": "code",
      "source": [
        "np.zeros(0)\n",
        "#verilen boyutlarda sıfırlardan oluşan bir dizidir."
      ],
      "metadata": {
        "colab": {
          "base_uri": "https://localhost:8080/"
        },
        "id": "SEDKcqZgkJwX",
        "outputId": "7dad767b-b9bf-4d36-e0a3-a821dfb72411"
      },
      "execution_count": null,
      "outputs": [
        {
          "output_type": "execute_result",
          "data": {
            "text/plain": [
              "array([], dtype=float64)"
            ]
          },
          "metadata": {},
          "execution_count": 10
        }
      ]
    },
    {
      "cell_type": "code",
      "source": [
        "np.zeros((2,2))"
      ],
      "metadata": {
        "colab": {
          "base_uri": "https://localhost:8080/"
        },
        "id": "f4pHz7vEkZq7",
        "outputId": "917d261b-1777-4aeb-eb54-76c7ba2901eb"
      },
      "execution_count": null,
      "outputs": [
        {
          "output_type": "execute_result",
          "data": {
            "text/plain": [
              "array([[0., 0.],\n",
              "       [0., 0.]])"
            ]
          },
          "metadata": {},
          "execution_count": 11
        }
      ]
    },
    {
      "cell_type": "code",
      "source": [
        "np.ones(1)\n",
        "#verilen boyularda birlerden oluşan bir dizi oluşturur."
      ],
      "metadata": {
        "colab": {
          "base_uri": "https://localhost:8080/"
        },
        "id": "QQ8ZRSMMknBh",
        "outputId": "dddb8168-6f6c-4a13-a705-9b094d85fb26"
      },
      "execution_count": null,
      "outputs": [
        {
          "output_type": "execute_result",
          "data": {
            "text/plain": [
              "array([1.])"
            ]
          },
          "metadata": {},
          "execution_count": 13
        }
      ]
    },
    {
      "cell_type": "code",
      "source": [
        "np.ones((5,3))"
      ],
      "metadata": {
        "colab": {
          "base_uri": "https://localhost:8080/"
        },
        "id": "6AIYZl06ku6i",
        "outputId": "033d7d62-99cc-4846-aef2-e565a5e0eee7"
      },
      "execution_count": null,
      "outputs": [
        {
          "output_type": "execute_result",
          "data": {
            "text/plain": [
              "array([[1., 1., 1.],\n",
              "       [1., 1., 1.],\n",
              "       [1., 1., 1.],\n",
              "       [1., 1., 1.],\n",
              "       [1., 1., 1.]])"
            ]
          },
          "metadata": {},
          "execution_count": 15
        }
      ]
    },
    {
      "cell_type": "code",
      "source": [
        "np.arange(5)\n",
        "#belirli bir aralıkta,belirli bir sayı büyüklüğüyle sayı dizisi oluşturur."
      ],
      "metadata": {
        "colab": {
          "base_uri": "https://localhost:8080/"
        },
        "id": "LSSB4160k3f6",
        "outputId": "3fd61787-69ab-4c68-9659-c0c9def390d2"
      },
      "execution_count": null,
      "outputs": [
        {
          "output_type": "execute_result",
          "data": {
            "text/plain": [
              "array([0, 1, 2, 3, 4])"
            ]
          },
          "metadata": {},
          "execution_count": 16
        }
      ]
    },
    {
      "cell_type": "code",
      "source": [
        "np.arange(1,10,3) #1'den 10'a kadar 3'er 3'er artan dizi"
      ],
      "metadata": {
        "colab": {
          "base_uri": "https://localhost:8080/"
        },
        "id": "kGYBTV5JlG4T",
        "outputId": "299cb77c-7c32-43b3-9159-cfeb4681644a"
      },
      "execution_count": null,
      "outputs": [
        {
          "output_type": "execute_result",
          "data": {
            "text/plain": [
              "array([1, 4, 7])"
            ]
          },
          "metadata": {},
          "execution_count": 17
        }
      ]
    },
    {
      "cell_type": "code",
      "source": [
        "np.linspace(1,1,1)\n",
        "#verilen başlangıç ve bitiş arasındaki değeri eşit parçaya bölerek dizi oluşturur."
      ],
      "metadata": {
        "colab": {
          "base_uri": "https://localhost:8080/"
        },
        "id": "5FIfiHhilQ2i",
        "outputId": "9d5a85c9-6ff8-4307-a8c5-cc0808b427fc"
      },
      "execution_count": null,
      "outputs": [
        {
          "output_type": "execute_result",
          "data": {
            "text/plain": [
              "array([1.])"
            ]
          },
          "metadata": {},
          "execution_count": 18
        }
      ]
    },
    {
      "cell_type": "code",
      "source": [
        "np.linspace(1,10,3)"
      ],
      "metadata": {
        "colab": {
          "base_uri": "https://localhost:8080/"
        },
        "id": "KF5CWAdMlgbl",
        "outputId": "d98be34d-01a6-4721-fba9-617f79f9f936"
      },
      "execution_count": null,
      "outputs": [
        {
          "output_type": "execute_result",
          "data": {
            "text/plain": [
              "array([ 1. ,  5.5, 10. ])"
            ]
          },
          "metadata": {},
          "execution_count": 19
        }
      ]
    },
    {
      "cell_type": "code",
      "source": [
        "np.eye(5)\n",
        "#birim matris oluşturur.\n"
      ],
      "metadata": {
        "colab": {
          "base_uri": "https://localhost:8080/"
        },
        "id": "jxop_e2alk-C",
        "outputId": "67840b57-1aae-4778-c3be-df77d7a8c881"
      },
      "execution_count": null,
      "outputs": [
        {
          "output_type": "execute_result",
          "data": {
            "text/plain": [
              "array([[1., 0., 0., 0., 0.],\n",
              "       [0., 1., 0., 0., 0.],\n",
              "       [0., 0., 1., 0., 0.],\n",
              "       [0., 0., 0., 1., 0.],\n",
              "       [0., 0., 0., 0., 1.]])"
            ]
          },
          "metadata": {},
          "execution_count": 20
        }
      ]
    },
    {
      "cell_type": "code",
      "source": [
        "np.eye(3) #3x3 lük birim matris"
      ],
      "metadata": {
        "colab": {
          "base_uri": "https://localhost:8080/"
        },
        "id": "8Qv0ORBRltT4",
        "outputId": "ace249da-f03b-4e90-b023-116131d25091"
      },
      "execution_count": null,
      "outputs": [
        {
          "output_type": "execute_result",
          "data": {
            "text/plain": [
              "array([[1., 0., 0.],\n",
              "       [0., 1., 0.],\n",
              "       [0., 0., 1.]])"
            ]
          },
          "metadata": {},
          "execution_count": 21
        }
      ]
    },
    {
      "cell_type": "code",
      "source": [
        "ar=np.array([4,5,6,7])\n",
        "ar_reshaped= ar.reshape(2,2)\n",
        "print(ar_reshaped)\n",
        "\n",
        "#dizinin şeklini değiştirir."
      ],
      "metadata": {
        "colab": {
          "base_uri": "https://localhost:8080/"
        },
        "id": "9Uolz12ml1kU",
        "outputId": "3cc6c053-a82d-4fda-9817-50929f9461a3"
      },
      "execution_count": null,
      "outputs": [
        {
          "output_type": "stream",
          "name": "stdout",
          "text": [
            "[[4 5]\n",
            " [6 7]]\n"
          ]
        }
      ]
    },
    {
      "cell_type": "code",
      "source": [
        "arr=np.array([6,7,9,1,5])\n",
        "toplam=np.sum(arr) #sum fonksiyonu dizinin elemanlarını toplar.\n",
        "print(toplam)\n"
      ],
      "metadata": {
        "colab": {
          "base_uri": "https://localhost:8080/"
        },
        "id": "QqtRf6Ivl8lS",
        "outputId": "2d960dda-bd3b-4e95-d67b-ef0ff4c7a463"
      },
      "execution_count": null,
      "outputs": [
        {
          "output_type": "stream",
          "name": "stdout",
          "text": [
            "28\n"
          ]
        }
      ]
    },
    {
      "cell_type": "code",
      "source": [
        "import numpy as np\n",
        "a=np.array([1,2,3])\n",
        "a1=np.array([4,5,6])\n",
        "carpim=np.dot(a,a1)\n",
        "print(carpim)  #fonksiyon,dizinin skaler çarpımı hesaplar."
      ],
      "metadata": {
        "id": "aaElLn08mnWj",
        "colab": {
          "base_uri": "https://localhost:8080/"
        },
        "outputId": "37cae878-0c8a-4a23-8fb3-000113064103"
      },
      "execution_count": 4,
      "outputs": [
        {
          "output_type": "stream",
          "name": "stdout",
          "text": [
            "32\n"
          ]
        }
      ]
    },
    {
      "cell_type": "code",
      "source": [
        "# Dizi elemanlarının standart sapmasını hesaplama\n",
        "dizi = np.array([1, 2, 3, 4, 5])\n",
        "std_sapma = np.std(dizi)\n",
        "\n",
        "print(f\"Standart Sapma: {std_sapma}\")"
      ],
      "metadata": {
        "colab": {
          "base_uri": "https://localhost:8080/"
        },
        "id": "2dcJvmziUwie",
        "outputId": "3b9f8dd5-4954-497d-984c-404339a7d406"
      },
      "execution_count": 5,
      "outputs": [
        {
          "output_type": "stream",
          "name": "stdout",
          "text": [
            "Standart Sapma: 1.4142135623730951\n"
          ]
        }
      ]
    },
    {
      "cell_type": "code",
      "source": [],
      "metadata": {
        "id": "odYRc8K2WnmQ"
      },
      "execution_count": null,
      "outputs": []
    }
  ]
}
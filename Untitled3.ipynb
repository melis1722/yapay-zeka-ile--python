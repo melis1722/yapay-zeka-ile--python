{
 "cells": [
  {
   "cell_type": "markdown",
   "id": "2d979f12-79f0-4351-8089-2ca3dd9a379d",
   "metadata": {},
   "source": [
    "## Pandas kütüphanesinde 10 adet fonksiyon araştırılıp kullanım örneği olan bir ipynb dosyası ile paylaşılacak."
   ]
  },
  {
   "cell_type": "code",
   "execution_count": 1,
   "id": "995b059c-641c-4aeb-bba0-4908ffac5b55",
   "metadata": {},
   "outputs": [],
   "source": [
    "import numpy as np"
   ]
  },
  {
   "cell_type": "code",
   "execution_count": 2,
   "id": "20745a50-1030-41e4-92ed-a510b0711107",
   "metadata": {},
   "outputs": [],
   "source": [
    "import pandas as pd"
   ]
  },
  {
   "cell_type": "code",
   "execution_count": 3,
   "id": "5329ce33-00b3-4813-9cc9-dc3986d87784",
   "metadata": {},
   "outputs": [],
   "source": [
    "df= pd.read_csv(\"Chocolate Sales2.csv\")"
   ]
  },
  {
   "cell_type": "code",
   "execution_count": 4,
   "id": "f2964ca2-c960-423a-a984-bda9b8c4ce26",
   "metadata": {},
   "outputs": [
    {
     "data": {
      "text/html": [
       "<div>\n",
       "<style scoped>\n",
       "    .dataframe tbody tr th:only-of-type {\n",
       "        vertical-align: middle;\n",
       "    }\n",
       "\n",
       "    .dataframe tbody tr th {\n",
       "        vertical-align: top;\n",
       "    }\n",
       "\n",
       "    .dataframe thead th {\n",
       "        text-align: right;\n",
       "    }\n",
       "</style>\n",
       "<table border=\"1\" class=\"dataframe\">\n",
       "  <thead>\n",
       "    <tr style=\"text-align: right;\">\n",
       "      <th></th>\n",
       "      <th>Sales Person</th>\n",
       "      <th>Country</th>\n",
       "      <th>Product</th>\n",
       "      <th>Date</th>\n",
       "      <th>Amount</th>\n",
       "      <th>Boxes Shipped</th>\n",
       "    </tr>\n",
       "  </thead>\n",
       "  <tbody>\n",
       "    <tr>\n",
       "      <th>0</th>\n",
       "      <td>Jehu Rudeforth</td>\n",
       "      <td>UK</td>\n",
       "      <td>Mint Chip Choco</td>\n",
       "      <td>04-Jan-22</td>\n",
       "      <td>$5,320</td>\n",
       "      <td>180.0</td>\n",
       "    </tr>\n",
       "    <tr>\n",
       "      <th>1</th>\n",
       "      <td>Van Tuxwell</td>\n",
       "      <td>India</td>\n",
       "      <td>85% Dark Bars</td>\n",
       "      <td>01-Aug-22</td>\n",
       "      <td>$7,896</td>\n",
       "      <td>NaN</td>\n",
       "    </tr>\n",
       "    <tr>\n",
       "      <th>2</th>\n",
       "      <td>Gigi Bohling</td>\n",
       "      <td>India</td>\n",
       "      <td>Peanut Butter Cubes</td>\n",
       "      <td>NaN</td>\n",
       "      <td>$4,501</td>\n",
       "      <td>91.0</td>\n",
       "    </tr>\n",
       "    <tr>\n",
       "      <th>3</th>\n",
       "      <td>Jan Morforth</td>\n",
       "      <td>Australia</td>\n",
       "      <td>Peanut Butter Cubes</td>\n",
       "      <td>27-Apr-22</td>\n",
       "      <td>NaN</td>\n",
       "      <td>NaN</td>\n",
       "    </tr>\n",
       "    <tr>\n",
       "      <th>4</th>\n",
       "      <td>Jehu Rudeforth</td>\n",
       "      <td>UK</td>\n",
       "      <td>NaN</td>\n",
       "      <td>24-Feb-22</td>\n",
       "      <td>$13,685</td>\n",
       "      <td>184.0</td>\n",
       "    </tr>\n",
       "  </tbody>\n",
       "</table>\n",
       "</div>"
      ],
      "text/plain": [
       "     Sales Person    Country              Product       Date    Amount  \\\n",
       "0  Jehu Rudeforth         UK      Mint Chip Choco  04-Jan-22   $5,320    \n",
       "1     Van Tuxwell      India        85% Dark Bars  01-Aug-22   $7,896    \n",
       "2    Gigi Bohling      India  Peanut Butter Cubes        NaN   $4,501    \n",
       "3    Jan Morforth  Australia  Peanut Butter Cubes  27-Apr-22       NaN   \n",
       "4  Jehu Rudeforth         UK                  NaN  24-Feb-22  $13,685    \n",
       "\n",
       "   Boxes Shipped  \n",
       "0          180.0  \n",
       "1            NaN  \n",
       "2           91.0  \n",
       "3            NaN  \n",
       "4          184.0  "
      ]
     },
     "execution_count": 4,
     "metadata": {},
     "output_type": "execute_result"
    }
   ],
   "source": [
    "df.head()"
   ]
  },
  {
   "cell_type": "code",
   "execution_count": 5,
   "id": "8421b522-92ee-4002-a51b-3bb7275657c3",
   "metadata": {},
   "outputs": [
    {
     "data": {
      "text/plain": [
       "Sales Person      0\n",
       "Country          12\n",
       "Product          13\n",
       "Date              9\n",
       "Amount            8\n",
       "Boxes Shipped    11\n",
       "dtype: int64"
      ]
     },
     "execution_count": 5,
     "metadata": {},
     "output_type": "execute_result"
    }
   ],
   "source": [
    "df.isnull().sum()"
   ]
  },
  {
   "cell_type": "code",
   "execution_count": 11,
   "id": "dd4dcf1c-ba99-42bc-a98c-a54db961206e",
   "metadata": {},
   "outputs": [],
   "source": [
    "df['Amount']=df['Amount'].astype(str).str.replace(\"[$,]\",\"\",regex=True).astype(float)"
   ]
  },
  {
   "cell_type": "code",
   "execution_count": 12,
   "id": "71ff2039-654d-46ab-9bf7-b97b724fb600",
   "metadata": {},
   "outputs": [
    {
     "data": {
      "text/plain": [
       "<bound method NDFrame.head of 0        5320.0\n",
       "1        7896.0\n",
       "2        4501.0\n",
       "3           NaN\n",
       "4       13685.0\n",
       "         ...   \n",
       "1089     4410.0\n",
       "1090     6559.0\n",
       "1091      574.0\n",
       "1092     2086.0\n",
       "1093     5075.0\n",
       "Name: Amount, Length: 1094, dtype: float64>"
      ]
     },
     "execution_count": 12,
     "metadata": {},
     "output_type": "execute_result"
    }
   ],
   "source": [
    "df['Amount'].head"
   ]
  },
  {
   "cell_type": "code",
   "execution_count": 13,
   "id": "bc01d858-b1c4-4d1f-9b8d-58711a1ff200",
   "metadata": {},
   "outputs": [
    {
     "data": {
      "text/plain": [
       "'Australia'"
      ]
     },
     "execution_count": 13,
     "metadata": {},
     "output_type": "execute_result"
    }
   ],
   "source": [
    "df[\"Country\"].mode()[0]"
   ]
  },
  {
   "cell_type": "code",
   "execution_count": 14,
   "id": "b7b17984-69ef-4570-8fb2-b447f177163e",
   "metadata": {},
   "outputs": [
    {
     "data": {
      "text/plain": [
       "Product\n",
       "50% Dark Bites          5626.694915\n",
       "70% Dark Bites          5038.333333\n",
       "85% Dark Bars           6032.142857\n",
       "99% Dark & Pure         6147.312500\n",
       "After Nines             5226.620000\n",
       "Almond Choco            5715.195652\n",
       "Baker's Choco Chips     6088.121951\n",
       "Caramel Stuffed Bars    5385.767442\n",
       "Choco Coated Almonds    6191.948718\n",
       "Drinking Coco           4583.125000\n",
       "Eclairs                 5165.644068\n",
       "Fruit & Nut Bars        5023.285714\n",
       "Manuka Honey Choco      6206.772727\n",
       "Milk Bars               5494.857143\n",
       "Mint Chip Choco         6310.422222\n",
       "Orange Choco            5487.847826\n",
       "Organic Choco Syrup     5473.142857\n",
       "Peanut Butter Cubes     6466.782609\n",
       "Raspberry Choco         5119.282609\n",
       "Smooth Sliky Salty      5948.068966\n",
       "Spicy Special Slims     5384.098039\n",
       "White Choc              5674.948276\n",
       "Name: Amount, dtype: float64"
      ]
     },
     "execution_count": 14,
     "metadata": {},
     "output_type": "execute_result"
    }
   ],
   "source": [
    "df.groupby('Product')['Amount'].mean()"
   ]
  },
  {
   "cell_type": "code",
   "execution_count": 15,
   "id": "ade5c0c0-2a9b-4718-8697-ffd290c8f9f2",
   "metadata": {},
   "outputs": [],
   "source": [
    "df['Date']=df['Date'].ffill().bfill()"
   ]
  },
  {
   "cell_type": "code",
   "execution_count": 16,
   "id": "0f201bb1-4aa5-4642-abb8-a057b000d55a",
   "metadata": {},
   "outputs": [
    {
     "data": {
      "text/plain": [
       "0    04-Jan-22\n",
       "1    01-Aug-22\n",
       "2    01-Aug-22\n",
       "3    27-Apr-22\n",
       "4    24-Feb-22\n",
       "Name: Date, dtype: object"
      ]
     },
     "execution_count": 16,
     "metadata": {},
     "output_type": "execute_result"
    }
   ],
   "source": [
    "df['Date'].head()"
   ]
  },
  {
   "cell_type": "code",
   "execution_count": 17,
   "id": "743e26cd-05e4-4a7a-acbb-9b2f6359120f",
   "metadata": {},
   "outputs": [],
   "source": [
    "df.dropna(axis=0, how='any',inplace=True)"
   ]
  },
  {
   "cell_type": "code",
   "execution_count": 18,
   "id": "c998cef9-4049-4bd8-aa6f-e710584617c6",
   "metadata": {},
   "outputs": [
    {
     "data": {
      "text/plain": [
       "Sales Person     0\n",
       "Country          0\n",
       "Product          0\n",
       "Date             0\n",
       "Amount           0\n",
       "Boxes Shipped    0\n",
       "dtype: int64"
      ]
     },
     "execution_count": 18,
     "metadata": {},
     "output_type": "execute_result"
    }
   ],
   "source": [
    "df.isnull().sum()"
   ]
  },
  {
   "cell_type": "code",
   "execution_count": 19,
   "id": "56098a0d-a15f-4396-a7db-1aa35b4d687b",
   "metadata": {},
   "outputs": [],
   "source": [
    "df_sorted=df.sort_values(by='Amount',ascending=False)"
   ]
  },
  {
   "cell_type": "code",
   "execution_count": 20,
   "id": "886270d7-793b-414d-b451-1b4c7bee4846",
   "metadata": {},
   "outputs": [
    {
     "data": {
      "text/html": [
       "<div>\n",
       "<style scoped>\n",
       "    .dataframe tbody tr th:only-of-type {\n",
       "        vertical-align: middle;\n",
       "    }\n",
       "\n",
       "    .dataframe tbody tr th {\n",
       "        vertical-align: top;\n",
       "    }\n",
       "\n",
       "    .dataframe thead th {\n",
       "        text-align: right;\n",
       "    }\n",
       "</style>\n",
       "<table border=\"1\" class=\"dataframe\">\n",
       "  <thead>\n",
       "    <tr style=\"text-align: right;\">\n",
       "      <th></th>\n",
       "      <th>Sales Person</th>\n",
       "      <th>Country</th>\n",
       "      <th>Product</th>\n",
       "      <th>Date</th>\n",
       "      <th>Amount</th>\n",
       "      <th>Boxes Shipped</th>\n",
       "    </tr>\n",
       "  </thead>\n",
       "  <tbody>\n",
       "    <tr>\n",
       "      <th>543</th>\n",
       "      <td>Ches Bonnell</td>\n",
       "      <td>India</td>\n",
       "      <td>Peanut Butter Cubes</td>\n",
       "      <td>27-Jan-22</td>\n",
       "      <td>22050.0</td>\n",
       "      <td>208.0</td>\n",
       "    </tr>\n",
       "    <tr>\n",
       "      <th>135</th>\n",
       "      <td>Van Tuxwell</td>\n",
       "      <td>India</td>\n",
       "      <td>Organic Choco Syrup</td>\n",
       "      <td>16-May-22</td>\n",
       "      <td>19929.0</td>\n",
       "      <td>174.0</td>\n",
       "    </tr>\n",
       "    <tr>\n",
       "      <th>751</th>\n",
       "      <td>Rafaelita Blaksland</td>\n",
       "      <td>New Zealand</td>\n",
       "      <td>Eclairs</td>\n",
       "      <td>07-Feb-22</td>\n",
       "      <td>19481.0</td>\n",
       "      <td>51.0</td>\n",
       "    </tr>\n",
       "    <tr>\n",
       "      <th>589</th>\n",
       "      <td>Curtice Advani</td>\n",
       "      <td>India</td>\n",
       "      <td>Smooth Sliky Salty</td>\n",
       "      <td>19-Apr-22</td>\n",
       "      <td>19327.0</td>\n",
       "      <td>135.0</td>\n",
       "    </tr>\n",
       "    <tr>\n",
       "      <th>212</th>\n",
       "      <td>Marney O'Breen</td>\n",
       "      <td>UK</td>\n",
       "      <td>Smooth Sliky Salty</td>\n",
       "      <td>13-May-22</td>\n",
       "      <td>18991.0</td>\n",
       "      <td>88.0</td>\n",
       "    </tr>\n",
       "  </tbody>\n",
       "</table>\n",
       "</div>"
      ],
      "text/plain": [
       "            Sales Person      Country              Product       Date  \\\n",
       "543         Ches Bonnell        India  Peanut Butter Cubes  27-Jan-22   \n",
       "135          Van Tuxwell        India  Organic Choco Syrup  16-May-22   \n",
       "751  Rafaelita Blaksland  New Zealand              Eclairs  07-Feb-22   \n",
       "589       Curtice Advani        India   Smooth Sliky Salty  19-Apr-22   \n",
       "212       Marney O'Breen           UK   Smooth Sliky Salty  13-May-22   \n",
       "\n",
       "      Amount  Boxes Shipped  \n",
       "543  22050.0          208.0  \n",
       "135  19929.0          174.0  \n",
       "751  19481.0           51.0  \n",
       "589  19327.0          135.0  \n",
       "212  18991.0           88.0  "
      ]
     },
     "execution_count": 20,
     "metadata": {},
     "output_type": "execute_result"
    }
   ],
   "source": [
    "df_sorted.head()"
   ]
  },
  {
   "cell_type": "code",
   "execution_count": 21,
   "id": "0018b71b-d676-4229-88c9-98726703ff39",
   "metadata": {},
   "outputs": [],
   "source": [
    "df['Amount']=df['Amount'].apply(lambda x: x*100)"
   ]
  },
  {
   "cell_type": "code",
   "execution_count": 22,
   "id": "0198ad7e-ebf8-480d-a612-219e199b98ab",
   "metadata": {},
   "outputs": [
    {
     "data": {
      "text/plain": [
       "0     532000.0\n",
       "1     789600.0\n",
       "2     450100.0\n",
       "5     537600.0\n",
       "6    1368500.0\n",
       "Name: Amount, dtype: float64"
      ]
     },
     "execution_count": 22,
     "metadata": {},
     "output_type": "execute_result"
    }
   ],
   "source": [
    "df['Amount'].head()"
   ]
  },
  {
   "cell_type": "code",
   "execution_count": 23,
   "id": "b7bac08f-6bc3-4ad6-ba8d-85555ee9e073",
   "metadata": {},
   "outputs": [],
   "source": [
    "data2 = {\n",
    "    'Sales Person': ['Jehu Rudeforth', 'Van Tuxwell', 'Gigi Bohling'],\n",
    "    'Country': ['UK', 'India', 'India'],\n",
    "    'Product': ['Mint Chip Choco', '85% Dark Bars', 'Peanut Butter Cubes']\n",
    "}\n",
    "\n",
    "df2=pd.DataFrame(data2)\n",
    "    "
   ]
  },
  {
   "cell_type": "code",
   "execution_count": 24,
   "id": "4cae6acf-a76a-4524-a25b-01ccb6d89d52",
   "metadata": {},
   "outputs": [],
   "source": [
    "merged_df=pd.merge(df, df2, on='Sales Person',how='inner')"
   ]
  },
  {
   "cell_type": "code",
   "execution_count": 25,
   "id": "16316d8d-5e71-4449-865b-4dd48e8c9ca8",
   "metadata": {},
   "outputs": [
    {
     "data": {
      "text/html": [
       "<div>\n",
       "<style scoped>\n",
       "    .dataframe tbody tr th:only-of-type {\n",
       "        vertical-align: middle;\n",
       "    }\n",
       "\n",
       "    .dataframe tbody tr th {\n",
       "        vertical-align: top;\n",
       "    }\n",
       "\n",
       "    .dataframe thead th {\n",
       "        text-align: right;\n",
       "    }\n",
       "</style>\n",
       "<table border=\"1\" class=\"dataframe\">\n",
       "  <thead>\n",
       "    <tr style=\"text-align: right;\">\n",
       "      <th></th>\n",
       "      <th>Sales Person</th>\n",
       "      <th>Country_x</th>\n",
       "      <th>Product_x</th>\n",
       "      <th>Date</th>\n",
       "      <th>Amount</th>\n",
       "      <th>Boxes Shipped</th>\n",
       "      <th>Country_y</th>\n",
       "      <th>Product_y</th>\n",
       "    </tr>\n",
       "  </thead>\n",
       "  <tbody>\n",
       "    <tr>\n",
       "      <th>0</th>\n",
       "      <td>Jehu Rudeforth</td>\n",
       "      <td>UK</td>\n",
       "      <td>Mint Chip Choco</td>\n",
       "      <td>04-Jan-22</td>\n",
       "      <td>532000.0</td>\n",
       "      <td>180.000000</td>\n",
       "      <td>UK</td>\n",
       "      <td>Mint Chip Choco</td>\n",
       "    </tr>\n",
       "    <tr>\n",
       "      <th>1</th>\n",
       "      <td>Van Tuxwell</td>\n",
       "      <td>India</td>\n",
       "      <td>85% Dark Bars</td>\n",
       "      <td>01-Aug-22</td>\n",
       "      <td>789600.0</td>\n",
       "      <td>161.481994</td>\n",
       "      <td>India</td>\n",
       "      <td>85% Dark Bars</td>\n",
       "    </tr>\n",
       "    <tr>\n",
       "      <th>2</th>\n",
       "      <td>Gigi Bohling</td>\n",
       "      <td>India</td>\n",
       "      <td>Peanut Butter Cubes</td>\n",
       "      <td>01-Aug-22</td>\n",
       "      <td>450100.0</td>\n",
       "      <td>91.000000</td>\n",
       "      <td>India</td>\n",
       "      <td>Peanut Butter Cubes</td>\n",
       "    </tr>\n",
       "    <tr>\n",
       "      <th>3</th>\n",
       "      <td>Van Tuxwell</td>\n",
       "      <td>India</td>\n",
       "      <td>Smooth Sliky Salty</td>\n",
       "      <td>06-Jun-22</td>\n",
       "      <td>537600.0</td>\n",
       "      <td>38.000000</td>\n",
       "      <td>India</td>\n",
       "      <td>85% Dark Bars</td>\n",
       "    </tr>\n",
       "    <tr>\n",
       "      <th>4</th>\n",
       "      <td>Jehu Rudeforth</td>\n",
       "      <td>New Zealand</td>\n",
       "      <td>50% Dark Bites</td>\n",
       "      <td>20-Apr-22</td>\n",
       "      <td>399000.0</td>\n",
       "      <td>59.000000</td>\n",
       "      <td>UK</td>\n",
       "      <td>Mint Chip Choco</td>\n",
       "    </tr>\n",
       "  </tbody>\n",
       "</table>\n",
       "</div>"
      ],
      "text/plain": [
       "     Sales Person    Country_x            Product_x       Date    Amount  \\\n",
       "0  Jehu Rudeforth           UK      Mint Chip Choco  04-Jan-22  532000.0   \n",
       "1     Van Tuxwell        India        85% Dark Bars  01-Aug-22  789600.0   \n",
       "2    Gigi Bohling        India  Peanut Butter Cubes  01-Aug-22  450100.0   \n",
       "3     Van Tuxwell        India   Smooth Sliky Salty  06-Jun-22  537600.0   \n",
       "4  Jehu Rudeforth  New Zealand       50% Dark Bites  20-Apr-22  399000.0   \n",
       "\n",
       "   Boxes Shipped Country_y            Product_y  \n",
       "0     180.000000        UK      Mint Chip Choco  \n",
       "1     161.481994     India        85% Dark Bars  \n",
       "2      91.000000     India  Peanut Butter Cubes  \n",
       "3      38.000000     India        85% Dark Bars  \n",
       "4      59.000000        UK      Mint Chip Choco  "
      ]
     },
     "execution_count": 25,
     "metadata": {},
     "output_type": "execute_result"
    }
   ],
   "source": [
    "merged_df.head()"
   ]
  },
  {
   "cell_type": "code",
   "execution_count": null,
   "id": "01f013b2-fc15-4a9a-8f89-189a73c44bb1",
   "metadata": {},
   "outputs": [],
   "source": []
  }
 ],
 "metadata": {
  "kernelspec": {
   "display_name": "Python 3 (ipykernel)",
   "language": "python",
   "name": "python3"
  },
  "language_info": {
   "codemirror_mode": {
    "name": "ipython",
    "version": 3
   },
   "file_extension": ".py",
   "mimetype": "text/x-python",
   "name": "python",
   "nbconvert_exporter": "python",
   "pygments_lexer": "ipython3",
   "version": "3.9.21"
  }
 },
 "nbformat": 4,
 "nbformat_minor": 5
}

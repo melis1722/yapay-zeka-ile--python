{
  "metadata": {
    "kernelspec": {
      "language": "python",
      "display_name": "Python 3",
      "name": "python3"
    },
    "language_info": {
      "name": "python",
      "version": "3.10.12",
      "mimetype": "text/x-python",
      "codemirror_mode": {
        "name": "ipython",
        "version": 3
      },
      "pygments_lexer": "ipython3",
      "nbconvert_exporter": "python",
      "file_extension": ".py"
    },
    "kaggle": {
      "accelerator": "none",
      "dataSources": [],
      "dockerImageVersionId": 30918,
      "isInternetEnabled": false,
      "language": "python",
      "sourceType": "notebook",
      "isGpuEnabled": false
    },
    "colab": {
      "provenance": [],
      "include_colab_link": true
    }
  },
  "nbformat_minor": 0,
  "nbformat": 4,
  "cells": [
    {
      "cell_type": "markdown",
      "metadata": {
        "id": "view-in-github",
        "colab_type": "text"
      },
      "source": [
        "<a href=\"https://colab.research.google.com/github/melis1722/introduction-to-github/blob/main/notebookb26480124d_adl%C4%B1_not_defterinin_kopyas%C4%B1.ipynb\" target=\"_parent\"><img src=\"https://colab.research.google.com/assets/colab-badge.svg\" alt=\"Open In Colab\"/></a>"
      ]
    },
    {
      "cell_type": "code",
      "source": [
        "# This Python 3 environment comes with many helpful analytics libraries installed\n",
        "# It is defined by the kaggle/python Docker image: https://github.com/kaggle/docker-python\n",
        "# For example, here's several helpful packages to load\n",
        "\n",
        "import numpy as np # linear algebra\n",
        "import pandas as pd # data processing, CSV file I/O (e.g. pd.read_csv)\n",
        "\n",
        "# Input data files are available in the read-only \"../input/\" directory\n",
        "# For example, running this (by clicking run or pressing Shift+Enter) will list all files under the input directory\n",
        "\n",
        "import os\n",
        "for dirname, _, filenames in os.walk('/kaggle/input'):\n",
        "    for filename in filenames:\n",
        "        print(os.path.join(dirname, filename))\n",
        "\n",
        "# You can write up to 20GB to the current directory (/kaggle/working/) that gets preserved as output when you create a version using \"Save & Run All\"\n",
        "# You can also write temporary files to /kaggle/temp/, but they won't be saved outside of the current session"
      ],
      "metadata": {
        "_uuid": "8f2839f25d086af736a60e9eeb907d3b93b6e0e5",
        "_cell_guid": "b1076dfc-b9ad-4769-8c92-a6c4dae69d19",
        "trusted": true,
        "id": "5JRBjOLwZfEx"
      },
      "outputs": [],
      "execution_count": null
    },
    {
      "cell_type": "code",
      "source": [
        "import pandas as pd\n",
        "import numpy as np\n",
        "\n",
        "# Veriyi yükleme\n",
        "url = 'https://www.kaggle.com/datasets/altavish/boston-housing-dataset/download?datasetVersionId=11879723'\n",
        "df = pd.read_csv(url)\n",
        "\n",
        "\n",
        "print(df.head())\n",
        "\n",
        "\n",
        "print(df.info())\n",
        "\n",
        "\n",
        "print(df.isnull().sum())\n"
      ],
      "metadata": {
        "trusted": true,
        "execution": {
          "iopub.status.busy": "2025-04-04T19:57:35.218948Z",
          "iopub.execute_input": "2025-04-04T19:57:35.219272Z"
        },
        "id": "r5ajpmX6ZfEy"
      },
      "outputs": [],
      "execution_count": null
    },
    {
      "cell_type": "code",
      "source": [
        "\n",
        "df.fillna(df.mean(), inplace=True)\n",
        "\n",
        "\n",
        "print(df.isnull().sum())\n"
      ],
      "metadata": {
        "trusted": true,
        "execution": {
          "iopub.status.busy": "2025-04-04T20:00:50.655681Z",
          "iopub.execute_input": "2025-04-04T20:00:50.656085Z",
          "iopub.status.idle": "2025-04-04T20:00:50.669446Z",
          "shell.execute_reply.started": "2025-04-04T20:00:50.656045Z",
          "shell.execute_reply": "2025-04-04T20:00:50.667847Z"
        },
        "id": "2guO_dYAZfEz"
      },
      "outputs": [],
      "execution_count": null
    },
    {
      "cell_type": "code",
      "source": [
        "\n",
        "df.to_csv('boston_housing_cleaned.csv', index=False)\n"
      ],
      "metadata": {
        "trusted": true,
        "execution": {
          "iopub.status.busy": "2025-04-04T20:01:32.595086Z",
          "iopub.execute_input": "2025-04-04T20:01:32.595433Z",
          "iopub.status.idle": "2025-04-04T20:01:32.60935Z",
          "shell.execute_reply.started": "2025-04-04T20:01:32.595405Z",
          "shell.execute_reply": "2025-04-04T20:01:32.60775Z"
        },
        "id": "b2_QUhNjZfE0"
      },
      "outputs": [],
      "execution_count": null
    },
    {
      "cell_type": "code",
      "source": [
        "import matplotlib.pyplot as plt\n",
        "import seaborn as sns\n",
        "\n",
        "\n",
        "plt.figure(figsize=(10,6))\n",
        "sns.scatterplot(x='AGE', y='PRICE', data=df)\n",
        "plt.title('AGE ile PRICE Arasındaki İlişki')\n",
        "plt.xlabel('AGE')\n",
        "plt.ylabel('Price')\n",
        "plt.show()\n",
        "\n",
        "\n",
        "plt.figure(figsize=(10,6))\n",
        "sns.scatterplot(x='CRIM', y='PRICE', data=df)\n",
        "plt.title('CRIM ile PRICE Arasındaki İlişki')\n",
        "plt.xlabel('CRIM')\n",
        "plt.ylabel('Price')\n",
        "plt.show()\n"
      ],
      "metadata": {
        "trusted": true,
        "execution": {
          "iopub.status.busy": "2025-04-04T19:59:10.94369Z",
          "iopub.execute_input": "2025-04-04T19:59:10.944088Z",
          "iopub.status.idle": "2025-04-04T19:59:11.982781Z",
          "shell.execute_reply.started": "2025-04-04T19:59:10.944046Z",
          "shell.execute_reply": "2025-04-04T19:59:11.98065Z"
        },
        "id": "vzSr2fPeZfE0"
      },
      "outputs": [],
      "execution_count": null
    },
    {
      "cell_type": "code",
      "source": [],
      "metadata": {
        "trusted": true,
        "id": "Bg5a4ymdZfE0"
      },
      "outputs": [],
      "execution_count": null
    }
  ]
}